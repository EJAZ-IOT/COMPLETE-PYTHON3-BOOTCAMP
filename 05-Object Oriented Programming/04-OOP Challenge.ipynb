{
 "cells": [
  {
   "cell_type": "markdown",
   "metadata": {},
   "source": [
    "# Object Oriented Programming Challenge\n",
    "\n",
    "For this challenge, create a bank account class that has two attributes:\n",
    "\n",
    "* owner\n",
    "* balance\n",
    "\n",
    "and two methods:\n",
    "\n",
    "* deposit\n",
    "* withdraw\n",
    "\n",
    "As an added requirement, withdrawals may not exceed the available balance.\n",
    "\n",
    "Instantiate your class, make several deposits and withdrawals, and test to make sure the account can't be overdrawn."
   ]
  },
  {
   "cell_type": "code",
   "execution_count": 68,
   "metadata": {},
   "outputs": [],
   "source": [
    "class Account:\n",
    "    \n",
    "    def __init__(self,owner,balance):\n",
    "        \n",
    "        self.owner=owner\n",
    "        self.balance=balance\n",
    "        \n",
    "    def deposit(self,amount):\n",
    "        self.balance=self.balance+amount\n",
    "        return f'deposit accepted! updated balance is {self.balance}'\n",
    "    \n",
    "    def withdrawal(self,amount):\n",
    "        \n",
    "        if amount> self.balance:\n",
    "            return 'Funds Unavailabe'\n",
    "        else:\n",
    "            self.balance=self.balance-amount\n",
    "            return f'Withdrawl Accepted avaliable balance is {self.balance}'\n",
    "        \n",
    "    def __str__(self):\n",
    "        \n",
    "        return f' Account owner: {self.owner}\\n Account balance: {self.balance}'"
   ]
  },
  {
   "cell_type": "code",
   "execution_count": 80,
   "metadata": {},
   "outputs": [],
   "source": [
    "# 1. Instantiate the class\n",
    "acct1 = Account('Ejaz',2000)"
   ]
  },
  {
   "cell_type": "code",
   "execution_count": 81,
   "metadata": {},
   "outputs": [
    {
     "name": "stdout",
     "output_type": "stream",
     "text": [
      " Account owner: Ejaz\n",
      " Account balance: 2000\n"
     ]
    }
   ],
   "source": [
    "# 2. Print the object\n",
    "print(acct1)"
   ]
  },
  {
   "cell_type": "code",
   "execution_count": 82,
   "metadata": {},
   "outputs": [
    {
     "data": {
      "text/plain": [
       "'Ejaz'"
      ]
     },
     "execution_count": 82,
     "metadata": {},
     "output_type": "execute_result"
    }
   ],
   "source": [
    "# 3. Show the account owner attribute\n",
    "acct1.owner"
   ]
  },
  {
   "cell_type": "code",
   "execution_count": 83,
   "metadata": {},
   "outputs": [
    {
     "data": {
      "text/plain": [
       "2000"
      ]
     },
     "execution_count": 83,
     "metadata": {},
     "output_type": "execute_result"
    }
   ],
   "source": [
    "# 4. Show the account balance attribute\n",
    "acct1.balance"
   ]
  },
  {
   "cell_type": "code",
   "execution_count": 84,
   "metadata": {},
   "outputs": [
    {
     "data": {
      "text/plain": [
       "'deposit accepted! updated balance is 2100'"
      ]
     },
     "execution_count": 84,
     "metadata": {},
     "output_type": "execute_result"
    }
   ],
   "source": [
    "# 5. Make a series of deposits and withdrawals\n",
    "acct1.deposit(100)"
   ]
  },
  {
   "cell_type": "code",
   "execution_count": 85,
   "metadata": {},
   "outputs": [
    {
     "data": {
      "text/plain": [
       "'Withdrawl Accepted avaliable balance is 1000'"
      ]
     },
     "execution_count": 85,
     "metadata": {},
     "output_type": "execute_result"
    }
   ],
   "source": [
    "acct1.withdrawal(1100)"
   ]
  },
  {
   "cell_type": "code",
   "execution_count": 86,
   "metadata": {},
   "outputs": [
    {
     "data": {
      "text/plain": [
       "'Withdrawl Accepted avaliable balance is 0'"
      ]
     },
     "execution_count": 86,
     "metadata": {},
     "output_type": "execute_result"
    }
   ],
   "source": [
    "# 6. Make a withdrawal that exceeds the available balance\n",
    "acct1.withdrawal(1000)"
   ]
  },
  {
   "cell_type": "code",
   "execution_count": 87,
   "metadata": {},
   "outputs": [
    {
     "data": {
      "text/plain": [
       "'Funds Unavailabe'"
      ]
     },
     "execution_count": 87,
     "metadata": {},
     "output_type": "execute_result"
    }
   ],
   "source": [
    "acct1.withdrawal(400)"
   ]
  },
  {
   "cell_type": "code",
   "execution_count": 88,
   "metadata": {},
   "outputs": [
    {
     "data": {
      "text/plain": [
       "'Funds Unavailabe'"
      ]
     },
     "execution_count": 88,
     "metadata": {},
     "output_type": "execute_result"
    }
   ],
   "source": [
    "acct1.withdrawal(50)"
   ]
  },
  {
   "cell_type": "code",
   "execution_count": 89,
   "metadata": {},
   "outputs": [
    {
     "data": {
      "text/plain": [
       "'deposit accepted! updated balance is 500'"
      ]
     },
     "execution_count": 89,
     "metadata": {},
     "output_type": "execute_result"
    }
   ],
   "source": [
    "acct1.deposit(500)"
   ]
  },
  {
   "cell_type": "code",
   "execution_count": 90,
   "metadata": {},
   "outputs": [
    {
     "data": {
      "text/plain": [
       "'Withdrawl Accepted avaliable balance is 100'"
      ]
     },
     "execution_count": 90,
     "metadata": {},
     "output_type": "execute_result"
    }
   ],
   "source": [
    "acct1.withdrawal(400)"
   ]
  },
  {
   "cell_type": "markdown",
   "metadata": {},
   "source": [
    "## Good job!"
   ]
  }
 ],
 "metadata": {
  "kernelspec": {
   "display_name": "Python 3",
   "language": "python",
   "name": "python3"
  },
  "language_info": {
   "codemirror_mode": {
    "name": "ipython",
    "version": 3
   },
   "file_extension": ".py",
   "mimetype": "text/x-python",
   "name": "python",
   "nbconvert_exporter": "python",
   "pygments_lexer": "ipython3",
   "version": "3.8.2"
  }
 },
 "nbformat": 4,
 "nbformat_minor": 2
}
